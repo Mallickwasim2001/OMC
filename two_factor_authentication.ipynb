{
  "nbformat": 4,
  "nbformat_minor": 0,
  "metadata": {
    "colab": {
      "provenance": [],
      "authorship_tag": "ABX9TyNNh2VzMboaKTe+L/eBfv9X",
      "include_colab_link": true
    },
    "kernelspec": {
      "name": "python3",
      "display_name": "Python 3"
    },
    "language_info": {
      "name": "python"
    }
  },
  "cells": [
    {
      "cell_type": "markdown",
      "metadata": {
        "id": "view-in-github",
        "colab_type": "text"
      },
      "source": [
        "<a href=\"https://colab.research.google.com/github/Mallickwasim2001/OMC/blob/main/two_factor_authentication.ipynb\" target=\"_parent\"><img src=\"https://colab.research.google.com/assets/colab-badge.svg\" alt=\"Open In Colab\"/></a>"
      ]
    },
    {
      "cell_type": "code",
      "source": [
        "pip install pyotp"
      ],
      "metadata": {
        "colab": {
          "base_uri": "https://localhost:8080/"
        },
        "id": "XgeCMEozX6nC",
        "outputId": "09db6d44-bfc1-4a6a-8964-2f568d193140"
      },
      "execution_count": 48,
      "outputs": [
        {
          "output_type": "stream",
          "name": "stdout",
          "text": [
            "Looking in indexes: https://pypi.org/simple, https://us-python.pkg.dev/colab-wheels/public/simple/\n",
            "Requirement already satisfied: pyotp in /usr/local/lib/python3.8/dist-packages (2.8.0)\n"
          ]
        }
      ]
    },
    {
      "cell_type": "code",
      "source": [
        "pip install twilio\n"
      ],
      "metadata": {
        "colab": {
          "base_uri": "https://localhost:8080/"
        },
        "id": "BY2aEkXnOsnN",
        "outputId": "b68ef84a-16dd-48a8-a3fd-b4ab579ee91b"
      },
      "execution_count": 49,
      "outputs": [
        {
          "output_type": "stream",
          "name": "stdout",
          "text": [
            "Looking in indexes: https://pypi.org/simple, https://us-python.pkg.dev/colab-wheels/public/simple/\n",
            "Requirement already satisfied: twilio in /usr/local/lib/python3.8/dist-packages (7.16.3)\n",
            "Requirement already satisfied: PyJWT<3.0.0,>=2.0.0 in /usr/local/lib/python3.8/dist-packages (from twilio) (2.6.0)\n",
            "Requirement already satisfied: requests>=2.0.0 in /usr/local/lib/python3.8/dist-packages (from twilio) (2.25.1)\n",
            "Requirement already satisfied: pytz in /usr/local/lib/python3.8/dist-packages (from twilio) (2022.7.1)\n",
            "Requirement already satisfied: certifi>=2017.4.17 in /usr/local/lib/python3.8/dist-packages (from requests>=2.0.0->twilio) (2022.12.7)\n",
            "Requirement already satisfied: idna<3,>=2.5 in /usr/local/lib/python3.8/dist-packages (from requests>=2.0.0->twilio) (2.10)\n",
            "Requirement already satisfied: chardet<5,>=3.0.2 in /usr/local/lib/python3.8/dist-packages (from requests>=2.0.0->twilio) (4.0.0)\n",
            "Requirement already satisfied: urllib3<1.27,>=1.21.1 in /usr/local/lib/python3.8/dist-packages (from requests>=2.0.0->twilio) (1.24.3)\n"
          ]
        }
      ]
    },
    {
      "cell_type": "code",
      "source": [
        "pip install phonenumbers"
      ],
      "metadata": {
        "colab": {
          "base_uri": "https://localhost:8080/"
        },
        "id": "Y0L4OkaWRqP2",
        "outputId": "117ca099-0694-4b98-89b2-30203dd95612"
      },
      "execution_count": 50,
      "outputs": [
        {
          "output_type": "stream",
          "name": "stdout",
          "text": [
            "Looking in indexes: https://pypi.org/simple, https://us-python.pkg.dev/colab-wheels/public/simple/\n",
            "Requirement already satisfied: phonenumbers in /usr/local/lib/python3.8/dist-packages (8.13.6)\n"
          ]
        }
      ]
    },
    {
      "cell_type": "code",
      "source": [
        "# Download the helper library from https://www.twilio.com/docs/python/install\n",
        "import os\n",
        "from twilio.rest import Client\n",
        "\n",
        "# Set environment variables for your credentials\n",
        "# Read more at http://twil.io/secure\n",
        "account_sid = \"ACdd51686ab8ee99c0a0e63913325673a5\"\n",
        "auth_token = \"f72eb7b44fa60434c521385f4cd574f0\"\n",
        "verify_sid = \"VA3bcd8fa752405d60c9604ec8e7858795\"\n",
        "verified_number = \"+917558595204\"\n",
        "\n",
        "client = Client(account_sid, auth_token)\n",
        "\n",
        "verification = client.verify.v2.services(verify_sid) \\\n",
        "  .verifications \\\n",
        "  .create(to=verified_number, channel=\"sms\")\n",
        "print(verification.status)\n",
        "\n",
        "otp_code = input(\"Please enter the OTP:\")\n",
        "\n",
        "verification_check = client.verify.v2.services(verify_sid) \\\n",
        "  .verification_checks \\\n",
        "  .create(to=verified_number, code=otp_code)\n",
        "print(verification_check.status)\n",
        "\n"
      ],
      "metadata": {
        "colab": {
          "base_uri": "https://localhost:8080/"
        },
        "id": "KjKm8P5dViI_",
        "outputId": "884b6a2e-2ac3-4226-f33a-5924d09750f8"
      },
      "execution_count": 51,
      "outputs": [
        {
          "output_type": "stream",
          "name": "stdout",
          "text": [
            "pending\n",
            "Please enter the OTP:931383\n",
            "approved\n"
          ]
        }
      ]
    },
    {
      "cell_type": "code",
      "source": [
        "import pyotp\n",
        "\n",
        "# Step 1: Generate a secret key for the user\n",
        "secret_key = pyotp.random_base32()\n",
        "\n",
        "# Step 2: Show the secret key to the user and ask them to scan it with the Google Authenticator app\n",
        "print(\"Secret Key: \", secret_key)\n",
        "\n",
        "# Step 3: Ask the user to enter the verification code from the Google Authenticator app\n",
        "verification_code = input(\"Enter the verification code: \")\n",
        "\n",
        "# Step 4: Verify the code entered by the user\n",
        "totp = pyotp.TOTP(secret_key)\n",
        "if totp.verify(verification_code):\n",
        "    print(\"Verification successful\")\n",
        "else:\n",
        "    print(\"Verification failed\")\n"
      ],
      "metadata": {
        "colab": {
          "base_uri": "https://localhost:8080/"
        },
        "id": "Tu6afF9dXpBm",
        "outputId": "897a0a26-4b5e-4fe8-b974-55e604e543e4"
      },
      "execution_count": null,
      "outputs": [
        {
          "output_type": "stream",
          "name": "stdout",
          "text": [
            "Secret Key:  O7BYB376ZBVQYI72NVYOMKE4SOAXIRN6\n"
          ]
        }
      ]
    }
  ]
}